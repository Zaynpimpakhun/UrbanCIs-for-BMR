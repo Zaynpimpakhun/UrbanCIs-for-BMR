{
  "nbformat": 4,
  "nbformat_minor": 0,
  "metadata": {
    "colab": {
      "provenance": []
    },
    "kernelspec": {
      "name": "python3",
      "display_name": "Python 3"
    },
    "language_info": {
      "name": "python"
    }
  },
  "cells": [
    {
      "cell_type": "markdown",
      "source": [
        "Here's a summary of all the steps we've gone through to analyze and visualize the urban CI nodes accessibility and service areas:\n",
        "\n",
        "**1 | Load and add layers:**\n",
        "> Load the point layers representing urban CI nodes.\n",
        "\n",
        "> Load the line layer representing the road network (RD).\n",
        "\n",
        "> Load the flood extent layers for 2011, 2030, and 2050.\n",
        "\n",
        "*The Kernel Density analysis will show the distribution of urban CI nodes based on their service provision radius. This will give you an understanding of the service areas covered by each CI node.*\n",
        "\n",
        "---\n",
        "\n",
        "**2 | Calculate service areas:**\n",
        "> Use QNEAT3's Iso-Area algorithm to calculate the service areas for each urban CI node based on the given service provision radius and the road network.\n",
        "\n",
        "*The shortest paths calculated between the population centroids and the urban CI nodes on the road network will give you an understanding of the accessibility of urban CI nodes for the population.*\n",
        "\n",
        "\n",
        "---\n",
        "\n",
        "\n",
        "**3 | Load the population grid layer (POP) and create centroid points.**\n",
        "\n",
        "\n",
        "---\n",
        "\n",
        "\n",
        "\n",
        "**4 | Calculate the shortest paths:**\n",
        "> Use QNEAT3's \"Shortest path (point to layer)\" algorithm to calculate the shortest paths from the population centroids to the urban CI nodes on the road network (RD).\n",
        "\n",
        "\n",
        "**5 | Remove edges located in flood extent layers from the road network.**\n",
        "\n",
        "*By removing the edges located in the flood extent layers, you'll be able to analyze the impact of flood events on the road network and its connectivity.*\n",
        "\n",
        "---\n",
        "\n",
        "\n",
        "**6 | Calculate the shortest paths using the modified road network:**\n",
        "> Use QNEAT3's \"Shortest path (point to layer)\" algorithm to calculate the shortest paths from the population centroids to the urban CI nodes on the modified road network (after removing edges located in flood extent).\n",
        "\n",
        "*By calculating the shortest paths on the modified road network, you can understand how the accessibility of urban CI nodes is affected by flood events.*\n",
        "\n",
        "---\n",
        "\n",
        "\n",
        "**7 | Export the shortest path results to CSV files and Visualize the accessibility of urban CI nodes as Iso-Areas:**\n",
        "\n",
        "> Extract distances from the shortest path layers.\n",
        "\n",
        "> Generate Iso-Areas (contour polygons) from the distance values.\n",
        "\n",
        "*Iso-Areas will show the accessibility of urban CI nodes at different distance intervals. By comparing Iso-Areas before and after removing the edges located in flood extents, you can visualize the impact of floods on the accessibility of urban CI nodes.*\n",
        "\n",
        "\n",
        "\n",
        "---\n",
        "\n",
        "\n"
      ],
      "metadata": {
        "id": "Imxm0M6VTblK"
      }
    },
    {
      "cell_type": "code",
      "execution_count": null,
      "metadata": {
        "id": "GQjxymqgOFKL"
      },
      "outputs": [],
      "source": [
        "from qgis.core import QgsProject, QgsVectorLayer, QgsLayerTreeLayer\n",
        "\n",
        "def load_and_add_layer(layer_path, layer_name, layer_type='ogr'):\n",
        "    layer = QgsVectorLayer(layer_path, layer_name, layer_type)\n",
        "    if layer.isValid():\n",
        "        QgsProject.instance().addMapLayer(layer)\n",
        "    else:\n",
        "        print(f\"Failed to load {layer_name}\")\n",
        "    return layer\n",
        "\n",
        "# Load point layers\n",
        "urban_ci_layers = {\n",
        "    \"RAIL\": \"/path/to/rail_stations.shp\",\n",
        "    \"ELEC\": \"/path/to/electric_power_supply.shp\",\n",
        "    \"WAT\": \"/path/to/water_supply.shp\",\n",
        "    \"HLT\": \"/path/to/healthcare_service.shp\",\n",
        "    \"EDU\": \"/path/to/educational_service.shp\",\n",
        "    \"CIV\": \"/path/to/civic_protection.shp\",\n",
        "    \"SAN\": \"/path/to/sanitation.shp\",\n",
        "}\n",
        "\n",
        "for layer_name, layer_path in urban_ci_layers.items():\n",
        "    load_and_add_layer(layer_path, layer_name)\n",
        "\n",
        "# Load road network layer\n",
        "road_layer = load_and_add_layer(\"/path/to/road_network.shp\", \"RD\")\n",
        "\n",
        "# Load flood extent layers\n",
        "flood_layers = {\n",
        "    \"FD30\": \"/path/to/flood_extent_2030.shp\",\n",
        "    \"FD50\": \"/path/to/flood_extent_2050.shp\",\n",
        "    \"FD11\": \"/path/to/flood_extent_2011.shp\",\n",
        "}\n",
        "\n",
        "for layer_name, layer_path in flood_layers.items():\n",
        "    load_and_add_layer(layer_path, layer_name)"
      ]
    },
    {
      "cell_type": "markdown",
      "source": [
        "To perform Kernel Density Estimation (KDE) for the urban CI nodes with their respective service provision radius:"
      ],
      "metadata": {
        "id": "_jR8JZNuOsEv"
      }
    },
    {
      "cell_type": "code",
      "source": [
        "from qgis.analysis import QgsNativeAlgorithms, QgsOverlayAnalyzer\n",
        "\n",
        "def remove_nodes_in_flood_extent(ci_layer, flood_layer):\n",
        "    QgsApplication.processingRegistry().addProvider(QgsNativeAlgorithms())\n",
        "    params = {\n",
        "        'INPUT': ci_layer,\n",
        "        'OVERLAY': flood_layer,\n",
        "        'OUTPUT': 'memory:'\n",
        "    }\n",
        "    result = processing.run(\"native:difference\", params)\n",
        "    return result['OUTPUT']"
      ],
      "metadata": {
        "id": "XL_sfee2OLFZ"
      },
      "execution_count": null,
      "outputs": []
    },
    {
      "cell_type": "code",
      "source": [
        "from qgis.analysis import QgsKernelDensityEstimation\n",
        "\n",
        "def perform_kde(input_layer, radius, output_path):\n",
        "    kde_params = {\n",
        "        'INPUT': input_layer,\n",
        "        'RADIUS': radius,\n",
        "        'PIXEL_SIZE': 1000, \n",
        "        'OUTPUT': output_path\n",
        "    }\n",
        "    result = processing.run(\"qgis:kde\", kde_params)\n",
        "    return result['OUTPUT']"
      ],
      "metadata": {
        "id": "MczFuVleO59h"
      },
      "execution_count": null,
      "outputs": []
    },
    {
      "cell_type": "code",
      "source": [
        "service_radii = {\n",
        "    \"RAIL\": 3000,\n",
        "    \"ELEC\": None,\n",
        "    \"WAT\": None,\n",
        "    \"HLT-HOS\": 10000,\n",
        "    \"HLT-HC\": 3000,\n",
        "    \"EDU\": 3000,\n",
        "    \"CIV\": 3000,\n",
        "    \"SAN\": 5000\n",
        "}"
      ],
      "metadata": {
        "id": "NnWyUilBPALO"
      },
      "execution_count": null,
      "outputs": []
    },
    {
      "cell_type": "code",
      "source": [
        "import os\n",
        "\n",
        "output_dir = \"/path/to/output\"\n",
        "if not os.path.exists(output_dir):\n",
        "    os.makedirs(output_dir)\n",
        "\n",
        "for layer_name, layer in urban_ci_layers.items():\n",
        "    if layer_name not in service_radii:\n",
        "        continue\n",
        "\n",
        "    radius = service_radii[layer_name]\n",
        "    if radius is None:\n",
        "        continue\n",
        "\n",
        "    # Remove nodes within flood extent layers\n",
        "    for flood_layer_name, flood_layer in flood_layers.items():\n",
        "        layer = remove_nodes_in_flood_extent(layer, flood_layer)\n",
        "\n",
        "    # Perform Kernel Density Estimation\n",
        "    kde_output_path = os.path.join(output_dir, f\"{layer_name}_kde.tif\")\n",
        "    perform_kde(layer, radius, kde_output_path)\n",
        "\n",
        "    # Load the KDE raster layer to the QGIS map\n",
        "    kde_raster_layer = QgsRasterLayer(kde_output_path, f\"{layer_name} KDE\")\n",
        "    QgsProject.instance().addMapLayer(kde_raster_layer)"
      ],
      "metadata": {
        "id": "cbWejDCPPBna"
      },
      "execution_count": null,
      "outputs": []
    },
    {
      "cell_type": "markdown",
      "source": [
        "To perform Accessibility analysis by QNEAT3"
      ],
      "metadata": {
        "id": "DF8E0SUOQjEl"
      }
    },
    {
      "cell_type": "code",
      "source": [
        "# Load population grid layer\n",
        "pop_grid_layer = load_and_add_layer(\"/path/to/population_grid.shp\", \"POP\")\n",
        "\n",
        "# Create centroid layer\n",
        "params = {\n",
        "    'INPUT': pop_grid_layer,\n",
        "    'ALL_PARTS': True,\n",
        "    'OUTPUT': 'memory:'\n",
        "}\n",
        "result = processing.run(\"native:centroids\", params)\n",
        "pop_centroid_layer = result['OUTPUT']"
      ],
      "metadata": {
        "id": "PYH37GFQPHv1"
      },
      "execution_count": null,
      "outputs": []
    },
    {
      "cell_type": "code",
      "source": [
        "def calculate_shortest_paths(pop_layer, ci_layer, network_layer, output_path):\n",
        "    params = {\n",
        "        'INPUT': network_layer,\n",
        "        'START_POINT': pop_layer,\n",
        "        'END_POINT': ci_layer,\n",
        "        'STRATEGY': 0,  # Use the \"Shortest Path (distance optimization)\" strategy\n",
        "        'ENTRY_COST_PREDICATE': 0,  # Use the \"Less Than\" predicate\n",
        "        'ENTRY_COST_VALUE': 0,\n",
        "        'OUTPUT': output_path\n",
        "    }\n",
        "    result = processing.run(\"qneat3:shortestpathpointtolayer\", params)\n",
        "    return result['OUTPUT']"
      ],
      "metadata": {
        "id": "1Koe0_Z9QpQ6"
      },
      "execution_count": null,
      "outputs": []
    },
    {
      "cell_type": "markdown",
      "source": [
        "Calculate the shortest paths for each CI node layer:"
      ],
      "metadata": {
        "id": "jrnqmVbKQvFD"
      }
    },
    {
      "cell_type": "code",
      "source": [
        "import os\n",
        "\n",
        "output_dir = \"/path/to/output\"\n",
        "if not os.path.exists(output_dir):\n",
        "    os.makedirs(output_dir)\n",
        "\n",
        "for layer_name, ci_layer in urban_ci_layers.items():\n",
        "    shortest_paths_output_path = os.path.join(output_dir, f\"{layer_name}_shortest_paths.shp\")\n",
        "    calculate_shortest_paths(pop_centroid_layer, ci_layer, road_layer, shortest_paths_output_path)\n",
        "\n",
        "    # Load the shortest paths layer to the QGIS map\n",
        "    shortest_paths_layer = QgsVectorLayer(shortest_paths_output_path, f\"{layer_name} Shortest Paths\", \"ogr\")\n",
        "    QgsProject.instance().addMapLayer(shortest_paths_layer)\n"
      ],
      "metadata": {
        "id": "kOISOzd3QspC"
      },
      "execution_count": null,
      "outputs": []
    },
    {
      "cell_type": "markdown",
      "source": [
        "Remove edges located in the flood extent from the road network:"
      ],
      "metadata": {
        "id": "Tbmvf8YMQz_m"
      }
    },
    {
      "cell_type": "code",
      "source": [
        "def remove_edges_in_flood_extent(network_layer, flood_layer, output_path):\n",
        "    params = {\n",
        "        'INPUT': network_layer,\n",
        "        'OVERLAY': flood_layer,\n",
        "        'OUTPUT': output_path\n",
        "    }\n",
        "    result = processing.run(\"native:difference\", params)\n",
        "    return result['OUTPUT']\n",
        "\n",
        "# Remove edges from the road network that are within the flood extents\n",
        "for flood_layer_name, flood_layer in flood_layers.items():\n",
        "    road_layer = remove_edges_in_flood_extent(road_layer, flood_layer, f\"memory:{flood_layer_name}_filtered\")"
      ],
      "metadata": {
        "id": "eVMDMgBiQxP1"
      },
      "execution_count": null,
      "outputs": []
    },
    {
      "cell_type": "markdown",
      "source": [
        "Calculate the shortest paths for each CI node layer using the modified road network:"
      ],
      "metadata": {
        "id": "N3Hog5ilQ3ex"
      }
    },
    {
      "cell_type": "code",
      "source": [
        "for layer_name, ci_layer in urban_ci_layers.items():\n",
        "    shortest_paths_output_path = os.path.join(output_dir, f\"{layer_name}_shortest_paths_filtered.shp\")\n",
        "    calculate_shortest_paths(pop_centroid_layer, ci_layer, road_layer, shortest_paths_output_path)\n",
        "\n",
        "    # Load the filtered shortest paths layer to the QGIS map\n",
        "    shortest_paths_layer = QgsVectorLayer(shortest_paths_output_path, f\"{layer_name} Shortest Paths Filtered\", \"ogr\")\n",
        "    QgsProject.instance().addMapLayer(shortest_paths_layer)"
      ],
      "metadata": {
        "id": "Tfqv1JMhQ5sL"
      },
      "execution_count": null,
      "outputs": []
    },
    {
      "cell_type": "code",
      "source": [
        "def export_layer_to_csv(layer, output_path):\n",
        "    params = {\n",
        "        'INPUT': layer,\n",
        "        'OUTPUT': output_path\n",
        "    }\n",
        "    processing.run(\"native:savefeatures\", params)"
      ],
      "metadata": {
        "id": "mlF02iY6RSWi"
      },
      "execution_count": null,
      "outputs": []
    },
    {
      "cell_type": "code",
      "source": [
        "csv_output_dir = \"/path/to/csv_output\"\n",
        "if not os.path.exists(csv_output_dir):\n",
        "    os.makedirs(csv_output_dir)\n",
        "\n",
        "for layer_name, ci_layer in urban_ci_layers.items():\n",
        "    # Export shortest paths\n",
        "    csv_output_path = os.path.join(csv_output_dir, f\"{layer_name}_shortest_paths.csv\")\n",
        "    shortest_paths_layer = QgsProject.instance().mapLayersByName(f\"{layer_name} Shortest Paths\")[0]\n",
        "    export_layer_to_csv(shortest_paths_layer, csv_output_path)\n",
        "\n",
        "    # Export filtered shortest paths\n",
        "    csv_output_path = os.path.join(csv_output_dir, f\"{layer_name}_shortest_paths_filtered.csv\")\n",
        "    shortest_paths_filtered_layer = QgsProject.instance().mapLayersByName(f\"{layer_name} Shortest Paths Filtered\")[0]\n",
        "    export_layer_to_csv(shortest_paths_filtered_layer, csv_output_path)"
      ],
      "metadata": {
        "id": "PjEzlOVrRTMc"
      },
      "execution_count": null,
      "outputs": []
    },
    {
      "cell_type": "markdown",
      "source": [
        "For Iso-Area"
      ],
      "metadata": {
        "id": "Ig1FLU8hSTmt"
      }
    },
    {
      "cell_type": "code",
      "source": [
        "def extract_distances(layer, output_path):\n",
        "    params = {\n",
        "        'INPUT': layer,\n",
        "        'FIELD_NAME': 'distance',\n",
        "        'OUTPUT': output_path\n",
        "    }\n",
        "    result = processing.run(\"qgis:fieldcalculator\", params)\n",
        "    return result['OUTPUT']"
      ],
      "metadata": {
        "id": "kCI2uaKWRWX1"
      },
      "execution_count": null,
      "outputs": []
    },
    {
      "cell_type": "code",
      "source": [
        "def create_iso_areas(layer, distance_interval, output_path):\n",
        "    params = {\n",
        "        'INPUT': layer,\n",
        "        'ATTRIBUTE_NAME': 'distance',\n",
        "        'METHOD': 0,  # Use the \"Classes\" method\n",
        "        'NUMBER_OF_CLASSES': 0,\n",
        "        'RANGES': distance_interval,\n",
        "        'OUTPUT': output_path\n",
        "    }\n",
        "    result = processing.run(\"native:createcontours\", params)\n",
        "    return result['OUTPUT']"
      ],
      "metadata": {
        "id": "7n8k_rVTSWRV"
      },
      "execution_count": null,
      "outputs": []
    },
    {
      "cell_type": "code",
      "source": [
        "import os\n",
        "\n",
        "iso_output_dir = \"/path/to/iso_output\"\n",
        "if not os.path.exists(iso_output_dir):\n",
        "    os.makedirs(iso_output_dir)\n",
        "\n",
        "distance_interval = 1000  # You can adjust this value to create Iso-Areas at different intervals\n",
        "\n",
        "for layer_name, ci_layer in urban_ci_layers.items():\n",
        "    # Process original shortest paths\n",
        "    shortest_paths_layer = QgsProject.instance().mapLayersByName(f\"{layer_name} Shortest Paths\")[0]\n",
        "    distance_layer_path = os.path.join(iso_output_dir, f\"{layer_name}_distances.shp\")\n",
        "    distance_layer = extract_distances(shortest_paths_layer, distance_layer_path)\n",
        "\n",
        "    iso_areas_output_path = os.path.join(iso_output_dir, f\"{layer_name}_iso_areas.shp\")\n",
        "    create_iso_areas(distance_layer, distance_interval, iso_areas_output_path)\n",
        "\n",
        "    # Load the Iso-Areas layer to the QGIS map\n",
        "    iso_areas_layer = QgsVectorLayer(iso_areas_output_path, f\"{layer_name} Iso Areas\", \"ogr\")\n",
        "    QgsProject.instance().addMapLayer(iso_areas_layer)\n",
        "\n",
        "    # Process filtered shortest paths\n",
        "    shortest_paths_filtered_layer = QgsProject.instance().mapLayersByName(f\"{layer_name} Shortest Paths Filtered\")[0]\n",
        "    distance_layer_path = os.path.join(iso_output_dir, f\"{layer_name}_distances_filtered.shp\")\n",
        "    distance_layer = extract_distances(shortest_paths_filtered_layer, distance_layer_path)\n",
        "\n",
        "    iso_areas_output_path = os.path.join(iso_output_dir, f\"{layer_name}_iso_areas_filtered.shp\")\n",
        "    create_iso_areas(distance_layer, distance_interval, iso_areas_output_path)\n",
        "\n",
        "    # Load the filtered Iso-Areas layer to the QGIS map\n",
        "    iso_areas_filtered_layer = QgsVectorLayer(iso_areas_output_path, f\"{layer_name} Iso Areas Filtered\", \"ogr\")\n",
        "    QgsProject.instance().addMapLayer(iso_areas_filtered_layer)"
      ],
      "metadata": {
        "id": "Moplr6VQSX9J"
      },
      "execution_count": null,
      "outputs": []
    }
  ]
}