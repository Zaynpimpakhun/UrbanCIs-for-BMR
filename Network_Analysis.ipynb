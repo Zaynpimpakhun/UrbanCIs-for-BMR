{
  "nbformat": 4,
  "nbformat_minor": 0,
  "metadata": {
    "colab": {
      "provenance": []
    },
    "kernelspec": {
      "name": "python3",
      "display_name": "Python 3"
    },
    "language_info": {
      "name": "python"
    }
  },
  "cells": [
    {
      "cell_type": "markdown",
      "source": [
        "Here's a summary of the steps in the provided code:\n",
        "\n",
        "**1 | Install and import required libraries:**\n",
        "\n",
        "> Install holoviews using !pip install holoviews.\n",
        "\n",
        "> Import pandas, numpy, matplotlib.pyplot, networkx, and holoviews.\n",
        "\n",
        "**2 | Read the CSV file containing urban CI nodes and their dependencies.**\n",
        "\n",
        "**3 | Create a NetworkX directed graph (G) from the CSV data.**\n",
        "\n",
        "**4 | Compute the degree of each node and visualize the graph in Pyviz (using the HoloViews library) with node colors based on the \"Sector\" column.**\n",
        "\n",
        "**5 | Define a function compute_impacts to analyze the primary, secondary, and tertiary impacts based on flood data.**\n",
        "\n",
        "**6 | Plot the initial map using NetworkX.**\n",
        "\n",
        "**7 | Plot the affected nodes on the map for different flood scenarios.**\n",
        "\n",
        "**8 | Define a function calculate_resilience_performance to calculate the resilience performance for each scenario.**\n",
        "\n",
        "**9 | Plot a line graph showing resilience performance degradation during flood events for different scenarios.**\n",
        "\n",
        "**10 | Create a table summarizing the impacts for different flood scenarios.**"
      ],
      "metadata": {
        "id": "hF0kkgxVXoWo"
      }
    },
    {
      "cell_type": "code",
      "source": [
        "!pip install holoviews"
      ],
      "metadata": {
        "id": "QcUz3D9Mw3KU"
      },
      "execution_count": null,
      "outputs": []
    },
    {
      "cell_type": "code",
      "source": [
        "import pandas as pd\n",
        "import numpy as np\n",
        "import matplotlib.pyplot as plt\n",
        "import networkx as nx"
      ],
      "metadata": {
        "id": "02NkOGmkUl1C"
      },
      "execution_count": null,
      "outputs": []
    },
    {
      "cell_type": "code",
      "execution_count": null,
      "metadata": {
        "id": "I9nWrSAdvqn3"
      },
      "outputs": [],
      "source": [
        "filename = \"BBT_TEST.csv\"\n",
        "df = pd.read_csv(filename)"
      ]
    },
    {
      "cell_type": "markdown",
      "source": [
        "Create a NetworkX graph from the CSV data:"
      ],
      "metadata": {
        "id": "ccRd5CJpwyqG"
      }
    },
    {
      "cell_type": "code",
      "source": [
        "G = nx.DiGraph()\n",
        "\n",
        "for _, row in df.iterrows():\n",
        "    G.add_edge(row['Donor Node'], row['Dependent Node'], topo=row['Topo'])"
      ],
      "metadata": {
        "id": "6nQG-0-zvwIQ"
      },
      "execution_count": null,
      "outputs": []
    },
    {
      "cell_type": "markdown",
      "source": [
        "Compute the degree of each node:"
      ],
      "metadata": {
        "id": "kcJWRKAFxB3r"
      }
    },
    {
      "cell_type": "code",
      "source": [
        "degree_table = pd.DataFrame(G.degree(), columns=[\"Node\", \"Degree\"])\n",
        "print(degree_table)"
      ],
      "metadata": {
        "id": "scoi1Bitv28t"
      },
      "execution_count": null,
      "outputs": []
    },
    {
      "cell_type": "markdown",
      "source": [
        "To visualise the graph in Pyviz (using the library HoloViews) with node colors based on the \"Sector\" column:"
      ],
      "metadata": {
        "id": "g35_679CxNHR"
      }
    },
    {
      "cell_type": "code",
      "source": [
        "import holoviews as hv\n",
        "from holoviews import opts\n",
        "hv.extension('bokeh')"
      ],
      "metadata": {
        "id": "mQGLpmCdw5Fg"
      },
      "execution_count": null,
      "outputs": []
    },
    {
      "cell_type": "code",
      "source": [
        "G = nx.DiGraph()\n",
        "\n",
        "for _, row in df.iterrows():\n",
        "    G.add_edge(row['Donor Node'], row['Dependent Node'], topo=row['Topo'])\n",
        "\n",
        "# Assuming 'Sector' attribute is available in the DataFrame\n",
        "sector = {node: df.loc[df['Donor Node'] == node, 'Sector'].iloc[0] for node in G.nodes}\n",
        "nx.set_node_attributes(G, sector, 'sector')\n",
        "unique_sectors = df['Sector'].unique().tolist()\n",
        "color_mapping = {sector: color for sector, color in zip(unique_sectors, hv.plotting.util.cycle_colors(n=len(unique_sectors), colormap='Category20'))}\n",
        "hv_graph = hv.Graph.from_networkx(G, nx.layout.spring_layout).opts(\n",
        "    node_color='sector', node_cmap=color_mapping, edge_alpha=0.5, width=800, height=800\n",
        ")\n",
        "hv_graph"
      ],
      "metadata": {
        "id": "ZXa-RJkZw7cS"
      },
      "execution_count": null,
      "outputs": []
    },
    {
      "cell_type": "markdown",
      "source": [
        "Analyse the primary impact and cascading impacts based on flood data:"
      ],
      "metadata": {
        "id": "lZAkF26AxT7M"
      }
    },
    {
      "cell_type": "code",
      "source": [
        "def compute_impacts(G, flooded_nodes):\n",
        "    primary_impact = set()\n",
        "    secondary_impact = set()\n",
        "    tertiary_impact = set()\n",
        "\n",
        "    for node in flooded_nodes:\n",
        "        if node in G:\n",
        "            for successor in G.successors(node):\n",
        "                topo_value = G[node][successor]['topo']\n",
        "                if topo_value == 1:\n",
        "                    primary_impact.add(successor)\n",
        "                elif topo_value == 2:\n",
        "                    continue\n",
        "                else:\n",
        "                    pass\n",
        "\n",
        "            for primary_node in primary_impact:\n",
        "                for successor in G.successors(primary_node):\n",
        "                    topo_value = G[primary_node][successor]['topo']\n",
        "                    if topo_value == 1:\n",
        "                        secondary_impact.add(successor)\n",
        "                    elif topo_value == 2:\n",
        "                        continue\n",
        "                    else:\n",
        "                        pass\n",
        "\n",
        "                for secondary_node in secondary_impact:\n",
        "                    for successor in G.successors(secondary_node):\n",
        "                        topo_value = G[secondary_node][successor]['topo']\n",
        "                        if topo_value == 1:\n",
        "                            tertiary_impact.add(successor)\n",
        "                        elif topo_value == 2:\n",
        "                            continue\n",
        "                        else:\n",
        "                            pass\n",
        "\n",
        "    return primary_impact, secondary_impact, tertiary_impact"
      ],
      "metadata": {
        "id": "kjXeAG1gv4dE"
      },
      "execution_count": null,
      "outputs": []
    },
    {
      "cell_type": "markdown",
      "source": [
        "Plot the initial map:"
      ],
      "metadata": {
        "id": "fXerpNu3xcjB"
      }
    },
    {
      "cell_type": "code",
      "source": [
        "pos = nx.spring_layout(G)\n",
        "nx.draw(G, pos, with_labels=True, node_color=\"blue\")\n",
        "plt.show()"
      ],
      "metadata": {
        "id": "a-PgRgsgv5SL"
      },
      "execution_count": null,
      "outputs": []
    },
    {
      "cell_type": "markdown",
      "source": [
        "Plot the affected nodes:"
      ],
      "metadata": {
        "id": "L-ZvXRIOxhgN"
      }
    },
    {
      "cell_type": "code",
      "source": [
        "def plot_affected_nodes(G, pos, impact):\n",
        "    primary, secondary, tertiary = impact\n",
        "    affected_nodes = primary | secondary | tertiary\n",
        "    unaffected_nodes = set(G.nodes()) - affected_nodes\n",
        "\n",
        "    nx.draw_networkx_nodes(G, pos, nodelist=unaffected_nodes, node_color=\"blue\")\n",
        "    nx.draw_networkx_nodes(G, pos, nodelist=affected_nodes, node_color=\"red\")\n",
        "    nx.draw_networkx_edges(G, pos)\n",
        "    nx.draw_networkx_labels(G, pos)\n",
        "\n",
        "    plt.show()\n",
        "\n",
        "plot_affected_nodes(G, pos, impact_2030)\n",
        "plot_affected_nodes(G, pos, impact_2050)"
      ],
      "metadata": {
        "id": "eI4yNJZMv8-p"
      },
      "execution_count": null,
      "outputs": []
    },
    {
      "cell_type": "markdown",
      "source": [
        "Plot a result graph for all impacts comparing different scenarios:"
      ],
      "metadata": {
        "id": "oYGMC04AxmF9"
      }
    },
    {
      "cell_type": "code",
      "source": [
        "def calculate_resilience_performance(initial_count, impact_count):\n",
        "    return (initial_count - impact_count) / initial_count * 100"
      ],
      "metadata": {
        "id": "7hQ4DKWTv_kQ"
      },
      "execution_count": null,
      "outputs": []
    },
    {
      "cell_type": "code",
      "source": [
        "def plot_resilience_performance_line_graph(impact_2030, impact_2050):\n",
        "    initial_count = len(G.nodes)\n",
        "\n",
        "    total_impact_2030 = sum([len(x) for x in impact_2030])\n",
        "    total_impact_2050 = sum([len(x) for x in impact_2050])\n",
        "\n",
        "    resilience_performance_2030 = calculate_resilience_performance(initial_count, total_impact_2030)\n",
        "    resilience_performance_2050 = calculate_resilience_performance(initial_count, total_impact_2050)\n",
        "\n",
        "    scenarios = [\"Pre\", \"During\", \"Post\"]\n",
        "    resilience_performance_2030_values = [100, resilience_performance_2030, 100]\n",
        "    resilience_performance_2050_values = [100, resilience_performance_2050, 100]\n",
        "\n",
        "    plt.plot(scenarios, resilience_performance_2030_values, color='#62BBEE', label=\"2030 Scenario\", marker='o')\n",
        "    plt.plot(scenarios, resilience_performance_2050_values, color='#3378AB', label=\"2050 Scenario\", marker='o')\n",
        "\n",
        "    plt.xlabel(\"Time\")\n",
        "    plt.ylabel(\"Resilience Performance (%)\")\n",
        "    plt.title(\"Resilience Performance Degradation During Flood Event\")\n",
        "    plt.legend()\n",
        "    plt.show()\n",
        "\n",
        "plot_resilience_performance_line_graph(impact_2030, impact_2050)"
      ],
      "metadata": {
        "id": "-R7vvn2b2rYk"
      },
      "execution_count": null,
      "outputs": []
    },
    {
      "cell_type": "markdown",
      "source": [
        "Display the results in a table:"
      ],
      "metadata": {
        "id": "7hiUi0WPxsXQ"
      }
    },
    {
      "cell_type": "code",
      "source": [
        "def create_impact_table(impact_2030, impact_2050):\n",
        "    primary_2030, secondary_2030, tertiary_2030 = [len(x) for x in impact_2030]\n",
        "    primary_2050, secondary_2050, tertiary_2050 = [len(x) for x in impact_2050]\n",
        "\n",
        "    impact_data = {\n",
        "        \"Primary Impact\": [primary_2030, primary_2050],\n",
        "        \"Secondary Impact\": [secondary_2030, secondary_2050],\n",
        "        \"Tertiary Impact\": [tertiary_2030, tertiary_2050]\n",
        "    }\n",
        "\n",
        "    impact_df = pd.DataFrame(impact_data, index=[\"2030\", \"2050\"])\n",
        "    return impact_df\n",
        "\n",
        "impact_table = create_impact_table(impact_2030, impact_2050)\n",
        "print(impact_table)"
      ],
      "metadata": {
        "id": "Bkqo-stZwBrL"
      },
      "execution_count": null,
      "outputs": []
    }
  ]
}